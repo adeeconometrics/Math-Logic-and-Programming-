{
  "nbformat": 4,
  "nbformat_minor": 0,
  "metadata": {
    "colab": {
      "name": "Stat functions.ipynb",
      "provenance": [],
      "authorship_tag": "ABX9TyM2d1C8tWHPAZBuBMWWvTzN",
      "include_colab_link": true
    },
    "kernelspec": {
      "name": "python3",
      "display_name": "Python 3"
    }
  },
  "cells": [
    {
      "cell_type": "markdown",
      "metadata": {
        "id": "view-in-github",
        "colab_type": "text"
      },
      "source": [
        "<a href=\"https://colab.research.google.com/github/adeeconometrics/Math-Logic-and-Programming-/blob/master/Stat_functions.ipynb\" target=\"_parent\"><img src=\"https://colab.research.google.com/assets/colab-badge.svg\" alt=\"Open In Colab\"/></a>"
      ]
    },
    {
      "cell_type": "markdown",
      "metadata": {
        "id": "E5uDdKmOrAy1"
      },
      "source": [
        "# Statistical Implementation Protypes\r\n",
        "by Dave Amiana \r\n",
        "\r\n",
        "Description:\r\n",
        "This notebook contains functional implementation of statistical functions; it will soon be transformed to a statistical package. This contains naive implementation of statistical functions. \r\n",
        "\r\n",
        "----\r\n",
        "Functions:\r\n",
        "- mean \r\n",
        "    - arithmetic mean\r\n",
        "    - geometric mean\r\n",
        "    - harmonic mean\r\n",
        "\r\n",
        "----\r\n",
        "#### Notes:\r\n",
        "\r\n",
        "The arithmetic mean of a population, or population mean, is often denoted $μ$.The sample mean ${\\bar {x}}$ (the arithmetic mean of a sample of values drawn from the population) makes a good estimator of the population mean, as its expected value is equal to the population mean (that is, it is an unbiased estimator). The sample mean is a random variable, not a constant, since its calculated value will randomly differ depending on which members of the population are sampled, and consequently it will have its own distribution.  "
      ]
    },
    {
      "cell_type": "code",
      "metadata": {
        "id": "bRZZD3k4qyRW"
      },
      "source": [
        "import numpy as np\r\n",
        "import scipy as sci"
      ],
      "execution_count": null,
      "outputs": []
    },
    {
      "cell_type": "markdown",
      "metadata": {
        "id": "C_u3OlfqpSBE"
      },
      "source": [
        "# Mean\r\n",
        "\r\n",
        "Discussion:\r\n",
        "\r\n",
        "When do we use mean: "
      ]
    },
    {
      "cell_type": "markdown",
      "metadata": {
        "id": "FsxyjUXmr6T4"
      },
      "source": [
        "arithmetic mean: \r\n",
        "$${\\displaystyle {\\bar {x}}={\\frac {1}{n}}\\left(\\sum _{i=1}^{n}{x_{i}}\\right)={\\frac {x_{1}+x_{2}+\\cdots +x_{n}}{n}}}$$\r\n",
        "\r\n",
        "where \r\n",
        "- $x_{1},x_{2},\\ldots ,x_{n},$ pertains to the sample\r\n",
        "- ${\\bar {x}}$ is the arithmetic mean"
      ]
    },
    {
      "cell_type": "code",
      "metadata": {
        "id": "1PGAQ4R5r5wW"
      },
      "source": [
        "# arithmetic mean\r\n",
        "def arithmetic_mean(data):\r\n",
        "    return np.sum(data)/len(data)"
      ],
      "execution_count": null,
      "outputs": []
    },
    {
      "cell_type": "markdown",
      "metadata": {
        "id": "Cq5gzOJJslVF"
      },
      "source": [
        "geometric mean:\r\n",
        "$${\\displaystyle {\\bar {x}}=\\left(\\prod _{i=1}^{n}{x_{i}}\\right)^{\\frac {1}{n}}=\\left(x_{1}x_{2}\\cdots x_{n}\\right)^{\\frac {1}{n}}}$$\r\n",
        "\r\n",
        "where\r\n",
        "- $x_{1},x_{2},\\ldots ,x_{n},$ pertains to the sample\r\n",
        "- ${\\bar {x}}$ is the geometric mean"
      ]
    },
    {
      "cell_type": "code",
      "metadata": {
        "id": "12WxlWaCslDW"
      },
      "source": [
        "def geom_mean(data):\r\n",
        "    return np.power(np.prod(data), 1/len(data))"
      ],
      "execution_count": null,
      "outputs": []
    },
    {
      "cell_type": "markdown",
      "metadata": {
        "id": "RQ1zc6_UtIAC"
      },
      "source": [
        "harmonic mean:\r\n",
        "$${\\displaystyle {\\bar {x}}=n\\left(\\sum _{i=1}^{n}{\\frac {1}{x_{i}}}\\right)^{-1}}$$\r\n",
        "\r\n",
        "where\r\n",
        "- $x_i$ are the sample\r\n",
        "- $n$ sample size\r\n",
        "- $\\bar{x}$ is the harmonic mean"
      ]
    },
    {
      "cell_type": "code",
      "metadata": {
        "id": "uZAO5XpctHlr"
      },
      "source": [
        "def harmonic_mean(data):\r\n",
        "    return len(data)*np.power(np.sum([1/data[i] for i in range(0, len(data))]), -1)"
      ],
      "execution_count": null,
      "outputs": []
    },
    {
      "cell_type": "markdown",
      "metadata": {
        "id": "3XBdRTKSxqcU"
      },
      "source": [
        "Root Mean Square (quadratic mean)\r\n",
        "\r\n",
        "$$RMS=\\sqrt{\\frac{1}{n}\\sum_i x_i^2}$$\r\n",
        "where\r\n",
        "\r\n",
        "- $RMS$\t=\troot mean square\r\n",
        "- ${n}$\t=\tnumber of measurements\r\n",
        "- $x_i$\t=\teach value"
      ]
    },
    {
      "cell_type": "code",
      "metadata": {
        "id": "Jp39PMrDxqw3"
      },
      "source": [
        "# quadratic mean \r\n",
        "def quadratic_mean(data):\r\n",
        "    return np.sqrt((1/len(data))*np.sum(np.power(data[i], 2) for i in range(0, len(data))))"
      ],
      "execution_count": null,
      "outputs": []
    },
    {
      "cell_type": "markdown",
      "metadata": {
        "id": "iR2apt0SzeVi"
      },
      "source": [
        "Weighted arithmetic mean\r\n",
        "\r\n",
        "$${\\displaystyle {\\bar {x}}={\\frac {\\sum _{i=1}^{n}{w_{i}x_{i}}}{\\sum _{i=1}^{n}w_{i}}}}$$\r\n",
        "\r\n",
        "where\r\n",
        "- $x_i$ are the sample\r\n",
        "- $n$ sample size\r\n",
        "- $\\bar{x}$ is the weighted mean"
      ]
    },
    {
      "cell_type": "code",
      "metadata": {
        "id": "X9bx4UFwzrj3"
      },
      "source": [
        "# assume len(data)==len(weights)\r\n",
        "def weighted_mean(data, weights):\r\n",
        "    if(len(data)==len(weights)):\r\n",
        "        return (np.sum([data[i]*weights[i] for i in range(0, len(data))]))/(np.sum(weights))\r\n",
        "    else: \r\n",
        "        print(\"error: data and weights should have the same size\")"
      ],
      "execution_count": null,
      "outputs": []
    },
    {
      "cell_type": "markdown",
      "metadata": {
        "id": "C2a3E_WdlZ0z"
      },
      "source": [
        "Interquartile Mean\r\n",
        "\r\n",
        "description:\r\n",
        " the arithmetic mean after removing the lowest and the highest quarter of values.\r\n",
        " \r\n",
        "$${\\displaystyle {\\bar {x}}={\\frac {2}{n}}\\;\\sum _{i={\\frac {n}{4}}+1}^{{\\frac {3}{4}}n}\\!\\!x_{i}}$$\r\n",
        "\r\n",
        "where\r\n",
        "- $x_i$ are the sample\r\n",
        "- $n$ sample size\r\n",
        "- $\\bar{x}$ is the interquartile mean"
      ]
    },
    {
      "cell_type": "code",
      "metadata": {
        "id": "GT1QRELElshy"
      },
      "source": [
        "# test for the case of odd and even interquartile mean\r\n",
        "def interquartile_mean(data):\r\n",
        "    scale = 1/len(data)\r\n",
        "    upper_limit = np.ceil(3/4*len(data))\r\n",
        "    lower_limit = np.floor(len(data)/4 +1)\r\n",
        "    return scale* np.sum([data[i] for i in range(lower_limit, upper_limit)])"
      ],
      "execution_count": null,
      "outputs": []
    },
    {
      "cell_type": "markdown",
      "metadata": {
        "id": "4OFSTprYuZhP"
      },
      "source": [
        "### Generalized means\r\n",
        "\r\n",
        "Power mean\r\n",
        "\r\n",
        "description: The generalized mean, also known as the power mean or Hölder mean, is an abstraction of the quadratic, arithmetic, geometric and harmonic means.\r\n",
        "\r\n",
        "\r\n",
        "$${\\displaystyle {\\bar {x}}(m)=\\left({\\frac {1}{n}}\\sum _{i=1}^{n}x_{i}^{m}\\right)^{\\frac {1}{m}}}$$\r\n",
        "\r\n",
        "By choosing different values for the parameter m, the following types of means are obtained:\r\n",
        "\r\n",
        "- $m\\rightarrow \\infty$ maximum of $x_{i}$\r\n",
        "- $m=2$\tquadratic mean\r\n",
        "- $m=1$\tarithmetic mean\r\n",
        "- $m\\rightarrow 0$\tgeometric mean\r\n",
        "- $m=-1$ harmonic mean\r\n",
        "- $m\\rightarrow -\\infty$ minimum of $x_{i}$\r\n",
        "\r\n"
      ]
    },
    {
      "cell_type": "code",
      "metadata": {
        "id": "zqLGtm2oxzwm"
      },
      "source": [
        "def power_mean(data, m):\r\n",
        "    return np.power(*1/len(data))*np.sum(data), 1/m)"
      ],
      "execution_count": null,
      "outputs": []
    },
    {
      "cell_type": "markdown",
      "metadata": {
        "id": "i1wEQiodzKKi"
      },
      "source": [
        "$f$- mean\r\n",
        "\r\n",
        "description: further generalization of the power mean. \r\n",
        "\r\n",
        "$${\\displaystyle {\\bar {x}}=f^{-1}\\left({{\\frac {1}{n}}\\sum _{i=1}^{n}{f\\left(x_{i}\\right)}}\\right)}$$"
      ]
    },
    {
      "cell_type": "code",
      "metadata": {
        "id": "H_tPP7iTzbyO"
      },
      "source": [
        "# import symbolic library for inverse function\r\n",
        "import sympy as sp"
      ],
      "execution_count": null,
      "outputs": []
    },
    {
      "cell_type": "markdown",
      "metadata": {
        "id": "crQfwxuk5Ddz"
      },
      "source": [
        "mean value theorem\r\n",
        "\r\n",
        "$${\\displaystyle y_{\\text{ave}}(a,b)={\\frac {1}{b-a}}\\int \\limits _{a}^{b}\\!f(x)\\,dx}$$"
      ]
    },
    {
      "cell_type": "code",
      "metadata": {
        "id": "OR_YWe_K5OgU"
      },
      "source": [
        "# import scipy library for numerical evaluation of integral\r\n",
        "import scipy.integrate as integrate\r\n",
        "\r\n",
        "# definition of a function\r\n",
        "def mean_value_thm(f,a,b):\r\n",
        "    scale = 1/(b-a)\r\n",
        "    return scale*sci.integrate.quad(f,a,b)[0]"
      ],
      "execution_count": null,
      "outputs": []
    },
    {
      "cell_type": "markdown",
      "metadata": {
        "id": "xTSjGZmmpdJq"
      },
      "source": [
        "# Median\r\n",
        "\r\n",
        "Discussion:\r\n",
        "The basic advantage of the median in describing data compared to the mean (often simply described as the \"average\") is that it is not skewed so much by a small proportion of extremely large or small values, and so it may give a better idea of a \"typical\" value. Because of this, the median is of central importance in [robust statistics](https://en.wikipedia.org/wiki/Resistant_statistic), as it is the most resistant statistic, having a breakdown point of 50%: so long as no more than half the data are contaminated, the median will not give an arbitrarily large or small result."
      ]
    },
    {
      "cell_type": "markdown",
      "metadata": {
        "id": "Gd4rUxh_qFEp"
      },
      "source": [
        "Basic median for finite samples:\r\n",
        "\r\n",
        "Case 1: $n \\text{ is odd}$\r\n",
        "$${\\textstyle \\mathrm {median} =x{({\\frac {n+1}{2}})}}$$\r\n",
        "\r\n",
        "Case 2: $n \\text{ is even}$\r\n",
        "$${\\displaystyle \\mathrm {median} ={\\frac {x{({\\frac {n}{2}})}+x{({\\frac {n}{2}}+1)}}{2}}}$$"
      ]
    },
    {
      "cell_type": "code",
      "metadata": {
        "id": "oL1UktYZp_ok"
      },
      "source": [
        "def median_basic(data):\r\n",
        "    if (len(data) % 2 == 0):\r\n",
        "        for i in data:\r\n",
        "            for j in data:\r\n",
        "                if (data[i] < data[j]):\r\n",
        "                    temp = data[i]\r\n",
        "                    data[i] = data[j]\r\n",
        "                    data[j] = temp\r\n",
        "        mid = int(len(data) / 2)\r\n",
        "        return (data[mid] + data[mid + 1]) / 2\r\n",
        "\r\n",
        "    else:\r\n",
        "        mid = int(len(data) / 2)\r\n",
        "        return data[mid + 1]"
      ],
      "execution_count": null,
      "outputs": []
    },
    {
      "cell_type": "markdown",
      "metadata": {
        "id": "LKXNsHG3woJR"
      },
      "source": [
        "# Mode"
      ]
    },
    {
      "cell_type": "code",
      "metadata": {
        "id": "hL_t8kh7wqlZ"
      },
      "source": [
        "def mode(data):\r\n",
        "    data_set = list(set(data))\r\n",
        "    frequency = [(data.count(i),i) for i in data_set]\r\n",
        "    return max(frequency)"
      ],
      "execution_count": null,
      "outputs": []
    },
    {
      "cell_type": "code",
      "metadata": {
        "id": "e4p_0pqj0avY"
      },
      "source": [
        "# test for mutlimodality "
      ],
      "execution_count": null,
      "outputs": []
    }
  ]
}