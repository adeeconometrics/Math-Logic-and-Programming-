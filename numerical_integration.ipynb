{
  "nbformat": 4,
  "nbformat_minor": 0,
  "metadata": {
    "colab": {
      "name": "numerical integration.ipynb",
      "provenance": [],
      "authorship_tag": "ABX9TyO7osaHDKX1+BxU8TXbcjBy",
      "include_colab_link": true
    },
    "kernelspec": {
      "name": "python3",
      "display_name": "Python 3"
    }
  },
  "cells": [
    {
      "cell_type": "markdown",
      "metadata": {
        "id": "view-in-github",
        "colab_type": "text"
      },
      "source": [
        "<a href=\"https://colab.research.google.com/github/adeeconometrics/Math-Logic-and-Programming-/blob/master/numerical_integration.ipynb\" target=\"_parent\"><img src=\"https://colab.research.google.com/assets/colab-badge.svg\" alt=\"Open In Colab\"/></a>"
      ]
    },
    {
      "cell_type": "markdown",
      "metadata": {
        "id": "SYXOkyaCRSc7"
      },
      "source": [
        "#About the notebook\n",
        "By Dave Arhur D. Amiana \n",
        "\n",
        "This notebook will explore both the symbolic and numerical approach to integration. We will implement naive methods as well as the API calls of such methods in the SciPy library.\n",
        "\n",
        "Topics include: \n",
        "- Symbolic Computations\n",
        "    - definite and indefinite integral\n",
        "    - double and triple integrals\n",
        "\n",
        "- Numerical Quadratures\n",
        "    - Algorithms for definite numerical integration \n",
        "        - Simpson's Algorithm\n",
        "        - Trapezoid Method\n",
        "        - Reiman Sums\n",
        "        - Quadrature\n",
        "        - Adaptive Quadrature \n",
        "\n",
        "    - Double and Triple integrals "
      ]
    },
    {
      "cell_type": "code",
      "metadata": {
        "id": "q2PMQHT2Y6fl"
      },
      "source": [
        "# import libraries\n",
        "import scipy as sci\n",
        "import sympy as sp\n",
        "import numpy as np\n",
        "import matplotlib.pyplot as plt"
      ],
      "execution_count": null,
      "outputs": []
    },
    {
      "cell_type": "markdown",
      "metadata": {
        "id": "8R4fLbya_8EK"
      },
      "source": [
        "# Introduction\n",
        "\n",
        "In this notebook, we will demonstrate how to interface with Python's [Numerical](https://www.scipy.org/) and [Symbolic](https://www.sympy.org/) libraries, as well as develop algorithms for numerical methods of computation. \n",
        "\n",
        "<!-- discuss about the libraries, why they seem to be an imperative for scientific computation? -->\n",
        "\n",
        "## Symbolic Computation\n",
        "\n",
        "Symbolic Computation (also referred to as Computer Algebr Systems) is a scientific area that refers to the study and development of algorithms and software for manipulating mathematical expressions and other mathematical objects. Although computer algebra could be considered a subfield of [scientific computing](https://en.wikipedia.org/wiki/Scientific_computing), they are generally considered as distinct fields because scientific computing is usually based on numerical computation with approximate floating point numbers, while symbolic computation emphasizes exact computation with expressions containing variables that have no given value and are manipulated as symbols.\n",
        "\n",
        "Computer algebra is widely used to experiment in mathematics and to design the formulas that are used in numerical programs. It is also used for complete scientific computations, when purely numerical methods fail, as in [public key cryptography](https://bityl.co/4fBY), or for some [non-linear problems](https://en.wikipedia.org/wiki/Non-linear).\n",
        "\n",
        "In the following codeblocks, we will explore how to integrate definite and indefinite functions for one-dimensional and multidimensional integrals."
      ]
    },
    {
      "cell_type": "code",
      "metadata": {
        "id": "O7U3SEBJaLJc"
      },
      "source": [
        "from sympy import init_printing, N, oo\n",
        "# function to output in LaTeX\n",
        "init_printing()\n",
        "\n",
        "#initialize symbols \n",
        "x,y,z,t = sp.symbols(\"x y z t\")"
      ],
      "execution_count": null,
      "outputs": []
    },
    {
      "cell_type": "markdown",
      "metadata": {
        "id": "5Zwn_xBHKVyE"
      },
      "source": [
        "let's integrate the function \n",
        "$$\\int \\sin(x) dx$$\n",
        "we know this results to $$-\\cos(x)+C$$"
      ]
    },
    {
      "cell_type": "code",
      "metadata": {
        "colab": {
          "base_uri": "https://localhost:8080/",
          "height": 37
        },
        "id": "aCYrSjLqJhA8",
        "outputId": "9af9fe16-a367-4f77-c91a-fdf8b2f26bcd"
      },
      "source": [
        "sp.integrate(sp.sin(x), x)"
      ],
      "execution_count": null,
      "outputs": [
        {
          "output_type": "execute_result",
          "data": {
            "image/png": "[encoded data removed]",
            "text/latex": "$$- \\cos{\\left (x \\right )}$$",
            "text/plain": [
              "-cos(x)"
            ]
          },
          "metadata": {
            "tags": []
          },
          "execution_count": 4
        }
      ]
    },
    {
      "cell_type": "markdown",
      "metadata": {
        "id": "4NDFKOwcIfSC"
      },
      "source": [
        "let's try to integrate the definition of $\\pi$\n",
        "\n",
        "$$\\pi =\\int _{-1}^{1}{\\frac {dx}{\\sqrt {1-x^{2}}}}$$"
      ]
    },
    {
      "cell_type": "code",
      "metadata": {
        "colab": {
          "base_uri": "https://localhost:8080/",
          "height": 71
        },
        "id": "TkSHI1flICGB",
        "outputId": "29379c62-39d7-4ea6-90cc-f1e14364385b"
      },
      "source": [
        "pi = 1/sp.sqrt(1-x**2)\n",
        "pi_integral = sp.integrate(pi,(x,-1,1))\n",
        "display(pi_integral)\n",
        "\n",
        "# for the numerical value of π\n",
        "val_pi = N(sp.integrate(pi,(x,-1,1)))\n",
        "print(\"val_pi:\", val_pi)\n",
        "\n",
        "# we can use np.pi as reference \n",
        "print(\"np.pi\", np.pi)"
      ],
      "execution_count": null,
      "outputs": [
        {
          "output_type": "display_data",
          "data": {
            "image/png": "[encoded data removed]",
            "text/latex": "$$\\pi$$",
            "text/plain": [
              "π"
            ]
          },
          "metadata": {
            "tags": []
          }
        },
        {
          "output_type": "stream",
          "text": [
            "val_pi: 3.14159265358979\n",
            "np.pi 3.141592653589793\n"
          ],
          "name": "stdout"
        }
      ]
    },
    {
      "cell_type": "markdown",
      "metadata": {
        "id": "w1nZl6ZLLiOH"
      },
      "source": [
        "let's try to integrate the following function:\n",
        "\n",
        "$$\\int\\int e^{- x^{2} - y^{2}}\\, dx\\, dy$$"
      ]
    },
    {
      "cell_type": "code",
      "metadata": {
        "colab": {
          "base_uri": "https://localhost:8080/",
          "height": 38
        },
        "id": "GTpfddjULh7P",
        "outputId": "a0587786-47ca-4987-bb77-90fc3aca90e8"
      },
      "source": [
        "sp.integrate(sp.exp(-x**2 - y**2), x,y)"
      ],
      "execution_count": null,
      "outputs": [
        {
          "output_type": "execute_result",
          "data": {
            "image/png": "[encoded data removed]",
            "text/latex": "$$\\frac{\\pi}{4} \\operatorname{erf}{\\left (x \\right )} \\operatorname{erf}{\\left (y \\right )}$$",
            "text/plain": [
              "π⋅erf(x)⋅erf(y)\n",
              "───────────────\n",
              "       4       "
            ]
          },
          "metadata": {
            "tags": []
          },
          "execution_count": 10
        }
      ]
    },
    {
      "cell_type": "markdown",
      "metadata": {
        "id": "Y5ms7fkMLjKI"
      },
      "source": [
        "let's try to integrate the following function:\n",
        "\n",
        "$$\\int_{-\\infty}^{\\infty}\\int_{-\\infty}^{\\infty} e^{- x^{2} - y^{2}}\\, dx\\, dy$$\n",
        "\n",
        "we know this evaluates to $\\pi$"
      ]
    },
    {
      "cell_type": "code",
      "metadata": {
        "colab": {
          "base_uri": "https://localhost:8080/",
          "height": 37
        },
        "id": "dKcnvXi-Lx3e",
        "outputId": "7ba94bae-1743-4f37-af8b-d9ce131141a9"
      },
      "source": [
        "sp.integrate(sp.exp(-x**2 - y**2), (x, -oo, oo), (y, -oo, oo))"
      ],
      "execution_count": null,
      "outputs": [
        {
          "output_type": "execute_result",
          "data": {
            "image/png": "[encoded data removed]",
            "text/latex": "$$\\pi$$",
            "text/plain": [
              "π"
            ]
          },
          "metadata": {
            "tags": []
          },
          "execution_count": 13
        }
      ]
    },
    {
      "cell_type": "code",
      "metadata": {
        "id": "zNj7DZJ5cNro"
      },
      "source": [
        "# using lambdify expressions"
      ],
      "execution_count": null,
      "outputs": []
    },
    {
      "cell_type": "markdown",
      "metadata": {
        "id": "zkbzG87FHBSQ"
      },
      "source": [
        "## Numerical Integration\n",
        "The term numerical integration comprises a broad family of algorithms for calculating the numerical value of a definite integral, and by extension, the term is also sometimes used to describe the numerical solution of differential equations, in this notebook, we will focus on the former part which concerns itself to finding the value of a definite integral. \n",
        "\n",
        "The basic problem in numerical integration is to compute an approximate solution to a definite integral\n",
        "$$\\int_{a}^{b} f(x) dx$$\n",
        "\n",
        "with maintaining a given degree of accuracy. With that, we will define the methods of approximation as well as the error function which bounds our approximation. \n",
        "\n",
        "**We should keep in mind that most definite integrals are impossible to solve exactly.**\n",
        "\n",
        "The idea behind numerical integration is to use simple geometric shapes to approximate the area under the curve $y = f(x)$ to estimate definite integrals. \n",
        "\n",
        "The following are methods of numerical approximations that we will cover herein:\n",
        "- Riemann Sums\n",
        "- Trapezoid rule\n",
        "- Simpson's rule \n",
        "\n",
        "### Reasons for Numerical Integration\n",
        "\n",
        "While Computer Algebra Systems (CAS) concerns itself to \"exact computations\" by discerning symbolic expressions instead of numerical methods, numerical integration is especially useful for instances where performance and certain types of use-cases are required i.e. plotting and visualizations. These use-cases will be clarified as we go through this notebook.  \n",
        "\n",
        "There are several reasons for carrying out numerical integration.\n",
        "\n",
        "1. The integrand $f(x)$ may be known only at certain points, such as obtained by sampling. Some embedded systems and other computer applications may need numerical integration for this reason.\n",
        "2. A formula for the integrand may be known, but it may be difficult or impossible to find an antiderivative that is an elementary function. An example of such an integrand is $f(x) = \\exp(−x^2)$, the antiderivative of which (the error function, times a constant) cannot be written in elementary form.\n",
        "3. It may be possible to find an antiderivative symbolically, but it may be easier to compute a numerical approximation than to compute the antiderivative. That may be the case if the antiderivative is given as an infinite series or product, or if its evaluation requires a special function that is not available."
      ]
    },
    {
      "cell_type": "code",
      "metadata": {
        "id": "i0M6f4a2Sn1z"
      },
      "source": [
        "import scipy.integrate as int\n",
        "import scipy.special as special"
      ],
      "execution_count": null,
      "outputs": []
    },
    {
      "cell_type": "code",
      "metadata": {
        "colab": {
          "base_uri": "https://localhost:8080/"
        },
        "id": "20lvNp0EZRIV",
        "outputId": "53f7e6d2-0dc6-4afe-d597-461c256adcfe"
      },
      "source": [
        "# the return value is a tuple, with the \n",
        "# first element holding the estimated value of the integral and the second element holding an upper bound on the error\n",
        "int.quad(lambda x_0: np.sin(x_0), 0,1)\n"
      ],
      "execution_count": null,
      "outputs": [
        {
          "output_type": "execute_result",
          "data": {
            "text/plain": [
              "(0.45969769413186023, 5.103669643922839e-15)"
            ]
          },
          "metadata": {
            "tags": []
          },
          "execution_count": 3
        }
      ]
    },
    {
      "cell_type": "markdown",
      "metadata": {
        "id": "5SNJbvXRU9EM"
      },
      "source": [
        "In previous section, we saw how to find a formula for indefinite integrals. Most CAS use a family of algorithms called the [Risch algorithms](https://en.wikipedia.org/wiki/Risch_algorithm) for finding an indefinite formula of a function. The algorithm transforms the problem of integration into a problem in algebra where a pattern that matches a given set of rules are manipulated based on the algebraic properties that elementary integal functions ought to have. \n",
        "\n",
        "However, there are functions that could take an awful lot of time, if not impossible to be expressed in symboic form [such function are referred to as [special functions](https://en.wikipedia.org/wiki/Lists_of_integrals#Special_functions)], to compute using the decision procedure made by the CAS algorithms (not only limited to Risch algorithms). While numerical methods suffer from the fact that it is not *exact*, we benefit from these methods for they are purely computational procedures that are efficient and good-enough in some scenarios. \n",
        "\n",
        "---\n",
        "\n",
        "## Discussion on definite Integral \n",
        "The definite integral of a function $f(x)$ over an interval $[a,b]\\in \\mathbb{R}$ can be expressed as the limit of a summation function as it does to infinity. \n",
        "\n",
        "$$\\int_a^b f(x) \\, dx = \\lim_{N \\to \\infty} \\sum_{i=1}^N f(x_i^ * ) (x_i - x_{i-1}) \\ \\ , \\ x_i^* \\in [x_{i-1},x_i]$$\n",
        "\n",
        "We recall that the overarching idea of Integral calculus can be thought of as the area under the curve. In the above definition, we see that the for any points of $P_0(a_0, b_0)\\in I$ can be transformed into a finite series which contain the area $f(x_i^*)(x_i - x_{i-1}) \\; \\text{or } f(x)\\;dx$.\n",
        "\n",
        "Therein lies the motivation of the following algorithms we define below."
      ]
    },
    {
      "cell_type": "code",
      "metadata": {
        "colab": {
          "base_uri": "https://localhost:8080/",
          "height": 335
        },
        "id": "Wqex2DMvWue1",
        "outputId": "3a84f4ea-6e45-4bec-9d91-d0e3678eddae"
      },
      "source": [
        "# plot the approximation\n",
        "%matplotlib inline\n",
        "\n",
        "f = lambda x_0 : 1/(1+x_0**2)\n",
        "a = 0; b = 5; N = 10\n",
        "n = 10 # Use n*N+1 points to plot the function smoothly\n",
        "\n",
        "x_0 = np.linspace(a,b,N+1)\n",
        "y = f(x_0)\n",
        "\n",
        "X = np.linspace(a,b,n*N+1)\n",
        "Y = f(X)\n",
        "\n",
        "plt.figure(figsize=(15,5))\n",
        "\n",
        "plt.subplot(1,3,1)\n",
        "plt.plot(X,Y,'b')\n",
        "x_left = x_0[:-1] # Left endpoints\n",
        "y_left = y[:-1]\n",
        "plt.plot(x_left,y_left,'b.',markersize=10)\n",
        "plt.bar(x_left,y_left,width=(b-a)/N,alpha=0.2,align='edge',edgecolor='b')\n",
        "plt.title('Left Riemann Sum, N = {}'.format(N))\n",
        "\n",
        "plt.subplot(1,3,2)\n",
        "plt.plot(X,Y,'b')\n",
        "x_mid = (x_0[:-1] + x_0[1:])/2 # Midpoints\n",
        "y_mid = f(x_mid)\n",
        "plt.plot(x_mid,y_mid,'b.',markersize=10)\n",
        "plt.bar(x_mid,y_mid,width=(b-a)/N,alpha=0.2,edgecolor='b')\n",
        "plt.title('Midpoint Riemann Sum, N = {}'.format(N))\n",
        "\n",
        "plt.subplot(1,3,3)\n",
        "plt.plot(X,Y,'b')\n",
        "x_right = x_0[1:] # Left endpoints\n",
        "y_right = y[1:]\n",
        "plt.plot(x_right,y_right,'b.',markersize=10)\n",
        "plt.bar(x_right,y_right,width=-(b-a)/N,alpha=0.2,align='edge',edgecolor='b')\n",
        "plt.title('Right Riemann Sum, N = {}'.format(N))\n",
        "\n",
        "plt.show()"
      ],
      "execution_count": null,
      "outputs": [
        {
          "output_type": "display_data",
          "data": {
            "image/png": "[encoded data removed]",
            "text/plain": [
              "<Figure size 1080x360 with 3 Axes>"
            ]
          },
          "metadata": {
            "tags": [],
            "needs_background": "light"
          }
        }
      ]
    },
    {
      "cell_type": "markdown",
      "metadata": {
        "id": "gb2MgHXZjYZP"
      },
      "source": [
        "### Reimann Sums\n",
        "Let $ f:[a,b]\\rightarrow \\mathbb {R}$  be a function defined on a closed interval $[a,b]$ of the real numbers, $\\mathbb {R}$ , and\n",
        "\n",
        "$$ P=\\left\\{[x_{0},x_{1}],[x_{1},x_{2}],\\dots ,[x_{n-1},x_{n}]\\right\\},$$\n",
        "be a partition of $I$, where $ a=x_{0}<x_{1}<x_{2}<\\cdots <x_{n}=b$.\n",
        "\n",
        "A Riemann sum $S$ of $f$ over $I$ with partition $P$ is defined as\n",
        "\n",
        "$$ S=\\sum _{i=1}^{n}f(x_{i}^{*})\\,\\Delta x_{i}$$\n",
        "\n",
        "where$ \\Delta x_{i}=x_{i}-x_{i-1}$ and $x_{i}^{*}\\in [x_{i-1},x_{i}].$\n",
        "\n",
        "**Discussion**:\n",
        "\n",
        "A Riemann sum is a certain kind of approximation of an integral by a finite sum. Riemann sums are important because they provide an easy way to approximate a definite integral.\n",
        "\n",
        "The sum is calculated by partitioning the region into shapes (rectangles, trapezoids, parabolas, or cubics) that together form a region that is similar to the region being measured, then calculating the area for each of these shapes, and finally adding all of these small areas together. This approach can be used to find a numerical approximation for a definite integral even if the fundamental theorem of calculus does not make it easy to find a closed-form solution.\n",
        "\n",
        "Because the region filled by the small shapes is usually not exactly the same shape as the region being measured, the Riemann sum will differ from the area being measured. This error can be reduced by dividing up the region more finely, using smaller and smaller shapes. As the shapes get smaller and smaller, the sum approaches the *Riemann integral*.\n",
        "\n",
        "**Methods of Riemann Sums**\n",
        "The methods of Reimann summation are usually best approached with partitions of equal size. The interval $[a,b]$ is therefore divided into $n$ subintervals, each of length $$\\Delta x = \\frac{b-a}{n}$$\n",
        "\n",
        "\n",
        "- Left Reimann sum\n",
        " - if $x^*_i=x_{i-1}$ for all $i$, in $S$ \n",
        "$${\\displaystyle A_{\\mathrm {left} }=\\Delta x\\left[f(a)+f(a+\\Delta x)+\\cdots +f(b-\\Delta x)\\right].}$$\n",
        "\n",
        "- Right Reimann sum\n",
        "   - if $x^*_i=x_{i-1}$ for all $i$, in $S$ \n",
        "$${\\displaystyle A_{\\mathrm {right} }=\\Delta x\\left[f(a+\\Delta x)+f(a+2\\,\\Delta x)+\\cdots +f(b)\\right].}$$\n",
        "\n",
        "- Middle Reimann sum\n",
        "   - if ${(x_{i}+x_{i-1})/2}$ for all $i$, in $S$\n",
        "$${\\displaystyle A_{\\mathrm {mid} }=\\Delta x\\left[f(a+{\\tfrac {\\Delta x}{2}})+f(a+{\\tfrac {3\\,\\Delta x}{2}})+\\cdots +f(b-{\\tfrac {\\Delta x}{2}})\\right]}.$$\n",
        "\n",
        "\n",
        "**Error Function**"
      ]
    },
    {
      "cell_type": "code",
      "metadata": {
        "colab": {
          "base_uri": "https://localhost:8080/",
          "height": 37
        },
        "id": "fCUbI-CElLMG",
        "outputId": "6ee82e02-e7a7-4715-9a2c-0030b94d6e05"
      },
      "source": [
        "int.quad(lambda x: np.sin(x), 0,np.pi)"
      ],
      "execution_count": null,
      "outputs": [
        {
          "output_type": "execute_result",
          "data": {
            "image/png": "[encoded data removed]",
            "text/latex": "$$\\left ( 2.0, \\quad 2.220446049250313e-14\\right )$$",
            "text/plain": [
              "(2.0, 2.220446049250313e-14)"
            ]
          },
          "metadata": {
            "tags": []
          },
          "execution_count": 49
        }
      ]
    },
    {
      "cell_type": "code",
      "metadata": {
        "colab": {
          "base_uri": "https://localhost:8080/"
        },
        "id": "v5YCO6mrctYM",
        "outputId": "037ccda4-14df-4087-87ef-eab42dd720ce"
      },
      "source": [
        "def left_r_sum(a,b, n=1000):\n",
        "    dx = np.abs(b-a)/n\n",
        "    x_l = np.linspace(a,b-dx,n)\n",
        "    f = np.sin(x_l)\n",
        "    return np.sum(f*dx)\n",
        "\n",
        "def right_r_sum(a,b,n=1000):\n",
        "    dx = np.abs(b-a)/n\n",
        "    x_r = np.linspace(dx,b,n)\n",
        "    f = np.sin\n",
        "    return np.sum(f(x_r)*dx)\n",
        "\n",
        "def mid_r_sum(a,b,n=1000):\n",
        "    dx = np.abs(b-a)/n\n",
        "    x_m = np.linspace(dx/2, b-dx/2,n)\n",
        "    f = np.sin\n",
        "    return np.sum(f(x_m)*dx)\n",
        "\n",
        "print(\"left sum: \", left_r_sum(0,np.pi), \"\\n right sum: \", right_r_sum(0,np.pi), \"\\n midpoint: \", mid_r_sum(0,np.pi))"
      ],
      "execution_count": null,
      "outputs": [
        {
          "output_type": "stream",
          "text": [
            "left sum:  1.9999983550656626 \n",
            " right sum:  1.9999983550656628 \n",
            " midpoint:  2.0000008224672703\n"
          ],
          "name": "stdout"
        }
      ]
    },
    {
      "cell_type": "code",
      "metadata": {
        "id": "nXqNf73iDm68"
      },
      "source": [
        "# error bounds"
      ],
      "execution_count": null,
      "outputs": []
    },
    {
      "cell_type": "code",
      "metadata": {
        "id": "3IrgRNVKBcCg"
      },
      "source": [
        "def riemann_sum(f,a,b,N,method='midpoint'):\n",
        "    '''Compute the Riemann sum of f(x) over the interval [a,b].\n",
        "\n",
        "    Parameters\n",
        "    ----------\n",
        "    f : function\n",
        "        Vectorized function of one variable\n",
        "    a , b : numbers\n",
        "        Endpoints of the interval [a,b]\n",
        "    N : integer\n",
        "        Number of subintervals of equal length in the partition of [a,b]\n",
        "    method : string\n",
        "        Determines the kind of Riemann sum:\n",
        "        right : Riemann sum using right endpoints\n",
        "        left : Riemann sum using left endpoints\n",
        "        midpoint (default) : Riemann sum using midpoints\n",
        "\n",
        "    Returns\n",
        "    -------\n",
        "    float\n",
        "        Approximation of the integral given by the Riemann sum.\n",
        "    '''\n",
        "    dx = (b - a)/N\n",
        "    x = np.linspace(a,b,N+1)\n",
        "\n",
        "    if method == 'left':\n",
        "        x_left = x[:-1]\n",
        "        return np.sum(f(x_left)*dx)\n",
        "    elif method == 'right':\n",
        "        x_right = x[1:]\n",
        "        return np.sum(f(x_right)*dx)\n",
        "    elif method == 'midpoint':\n",
        "        x_mid = (x[:-1] + x[1:])/2\n",
        "        return np.sum(f(x_mid)*dx)\n",
        "    else:\n",
        "        raise ValueError(\"Method must be 'left', 'right' or 'midpoint'.\")"
      ],
      "execution_count": null,
      "outputs": []
    },
    {
      "cell_type": "markdown",
      "metadata": {
        "id": "FhrCQ3Sn1VWg"
      },
      "source": [
        "## Composite Trapezoidal rule\r\n",
        "\r\n",
        "The idea here is to replace the true graph by a set of straight line segments, which we may view as the area be composed of trapezoids. As a reminder, the area of a trapezoid is: $A_T=\\tfrac{a + b}{2} h$. We use the following property of definite integrals to deriving our numerical solution:\r\n",
        "\r\n",
        "$$\\int_{a}^{b} f(x)\\ dx = \\int_{a}^{c} f(x)\\ dx\\ + \\int_{c}^{b} f(x) \\ dx \\text{ such that } a<c<b$$\r\n",
        "\r\n",
        "with this, we can derive our solution for $n$ partitions of our integral and express it as follows:\r\n",
        "\r\n",
        "$$\r\n",
        "\\begin{aligned} \r\n",
        "\\int_{a}^{b} f(x)\\ dx &= \\int_{x_0}^{x_1} f(x)\\ dx\\ + \\int_{x_1}^{x_2} f(x) \\ dx + ... + \\int_{x_{n-1}}^{x_n} f(x)\\ dx  \\\\ &\\approx h\\frac{f(x_0)+f(x_1)}{2} + h\\frac{f(x_1)+f(x_2)}{2}+...+ h\\frac{f(x_{n-1})+f(x_n)}{2}\r\n",
        "\\end{aligned}\r\n",
        " $$\r\n",
        "\r\n",
        " Which we can express more compactly as: \r\n",
        " $$\\int_{a}^{b} f(x)\\ dx \\approx h \\Big(\\frac{1}{2} f(x_0)+\\sum_{i=1}^{n-1}f(x_i) + \\frac{1}{2} f(x_n)\\Big)$$"
      ]
    },
    {
      "cell_type": "code",
      "metadata": {
        "id": "EX5BwnfT1Vyx"
      },
      "source": [
        "# composite trapezoidal rule\r\n",
        "def trapezoid(f,x,n, dx=1e-15):\r\n",
        "    pass"
      ],
      "execution_count": null,
      "outputs": []
    },
    {
      "cell_type": "markdown",
      "metadata": {
        "id": "kPvd6lUQuR6y"
      },
      "source": [
        "### $\\Gamma$-function:\n",
        "\n",
        "$$\\Gamma(x) := \\int^{\\infty}_{0} t^{x-1} e^{-t} \\mathrm{d}t.$$"
      ]
    },
    {
      "cell_type": "code",
      "metadata": {
        "colab": {
          "base_uri": "https://localhost:8080/",
          "height": 522
        },
        "id": "qi6FEgX5k1Zu",
        "outputId": "3fe8bde9-9cdb-42f5-80f9-68455a1cb42b"
      },
      "source": [
        "def integrand_gamma(t_,x_):\n",
        "     return t_**(x_-1)*np.exp(-t_)\n",
        "\n",
        "def gm(x_):\n",
        "    return int.quad(integrand_gamma, 0, np.inf, args=(x_))[0]\n",
        "\n",
        "vec_gamma = np.vectorize(gm)\n",
        "\n",
        "x_0 = np.linspace(-5,5,10000)\n",
        "y_0 = vec_gamma([i for i in x_0])\n",
        "plt.plot(x_0, y_0)\n",
        "\n",
        "plt.ylim(-4,4)"
      ],
      "execution_count": null,
      "outputs": [
        {
          "output_type": "stream",
          "text": [
            "/usr/local/lib/python3.6/dist-packages/ipykernel_launcher.py:5: IntegrationWarning: The algorithm does not converge.  Roundoff error is detected\n",
            "  in the extrapolation table.  It is assumed that the requested tolerance\n",
            "  cannot be achieved, and that the returned result (if full_output = 1) is \n",
            "  the best which can be obtained.\n",
            "  \"\"\"\n",
            "/usr/local/lib/python3.6/dist-packages/ipykernel_launcher.py:5: IntegrationWarning: The integral is probably divergent, or slowly convergent.\n",
            "  \"\"\"\n",
            "/usr/local/lib/python3.6/dist-packages/ipykernel_launcher.py:5: IntegrationWarning: The maximum number of subdivisions (50) has been achieved.\n",
            "  If increasing the limit yields no improvement it is advised to analyze \n",
            "  the integrand in order to determine the difficulties.  If the position of a \n",
            "  local difficulty can be determined (singularity, discontinuity) one will \n",
            "  probably gain from splitting up the interval and calling the integrator \n",
            "  on the subranges.  Perhaps a special-purpose integrator should be used.\n",
            "  \"\"\"\n"
          ],
          "name": "stderr"
        },
        {
          "output_type": "execute_result",
          "data": {
            "image/png": "[encoded data removed]",
            "text/latex": "$$\\left ( -4.0, \\quad 4.0\\right )$$",
            "text/plain": [
              "(-4.0, 4.0)"
            ]
          },
          "metadata": {
            "tags": []
          },
          "execution_count": 16
        },
        {
          "output_type": "display_data",
          "data": {
            "image/png": "[encoded data removed]",
            "text/plain": [
              "<Figure size 432x288 with 1 Axes>"
            ]
          },
          "metadata": {
            "tags": [],
            "needs_background": "light"
          }
        }
      ]
    },
    {
      "cell_type": "markdown",
      "metadata": {
        "id": "T8KUpvHqFmup"
      },
      "source": [
        "$$E_n(x)=\\int_{1}^{\\infty} \\frac{e^{-xt}}{t^n} dt$$"
      ]
    },
    {
      "cell_type": "code",
      "metadata": {
        "colab": {
          "base_uri": "https://localhost:8080/"
        },
        "id": "DpLfckbW-Mp8",
        "outputId": "150afbff-e922-47c3-f95c-4c273c80cef5"
      },
      "source": [
        "def integrand(t, n, x):\n",
        "    return np.exp(-x*t) / t**n\n",
        "\n",
        "def expint(n, x):\n",
        "    return int.quad(integrand, 1, np.inf, args=(n, x))[0]\n",
        "\n",
        "vec_expint = np.vectorize(expint)\n",
        "\n",
        "y_5 = vec_expint(4, x_0)\n",
        "\n",
        "# plt.plot(x_0, y_5)\n",
        "y_5"
      ],
      "execution_count": null,
      "outputs": [
        {
          "output_type": "stream",
          "text": [
            "/usr/local/lib/python3.6/dist-packages/ipykernel_launcher.py:2: RuntimeWarning: overflow encountered in exp\n",
            "  \n",
            "/usr/local/lib/python3.6/dist-packages/ipykernel_launcher.py:5: IntegrationWarning: The integral is probably divergent, or slowly convergent.\n",
            "  \"\"\"\n"
          ],
          "name": "stderr"
        },
        {
          "output_type": "execute_result",
          "data": {
            "text/plain": [
              "array([       inf,        inf,        inf, ..., 0.00078474, 0.00078386,\n",
              "       0.00078298])"
            ]
          },
          "metadata": {
            "tags": []
          },
          "execution_count": 109
        }
      ]
    },
    {
      "cell_type": "code",
      "metadata": {
        "id": "GXC8twlHoRSk"
      },
      "source": [
        "# plot integral\n",
        "def a(a): \n",
        "    return int.quad(lambda x: np.sin(x),0,1)[0]\n",
        "\n",
        "y_3 = np.array([a(i) for i in x_0])[0]\n",
        "plt.plot(x_0,y_3)"
      ],
      "execution_count": null,
      "outputs": []
    },
    {
      "cell_type": "code",
      "metadata": {
        "colab": {
          "base_uri": "https://localhost:8080/",
          "height": 284
        },
        "id": "lNOzGwd-bkQg",
        "outputId": "b7bf37a0-5b74-4f4b-a72d-afcfc2a85344"
      },
      "source": [
        "# plot the gamma function\n",
        "\n",
        "x_0 = np.linspace(-5,5, 10000)\n",
        "y = np.array([special.gamma(i) for i in x_0])\n",
        "\n",
        "plt.plot(x_0,y)\n",
        "plt.ylim(-5,5)"
      ],
      "execution_count": null,
      "outputs": [
        {
          "output_type": "execute_result",
          "data": {
            "image/png": "[encoded data removed]",
            "text/latex": "$$\\left ( -5.0, \\quad 5.0\\right )$$",
            "text/plain": [
              "(-5.0, 5.0)"
            ]
          },
          "metadata": {
            "tags": []
          },
          "execution_count": 27
        },
        {
          "output_type": "display_data",
          "data": {
            "image/png": "[encoded data removed]",
            "text/plain": [
              "<Figure size 432x288 with 1 Axes>"
            ]
          },
          "metadata": {
            "tags": [],
            "needs_background": "light"
          }
        }
      ]
    }
  ]
}